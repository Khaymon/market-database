{
 "cells": [
  {
   "cell_type": "code",
   "execution_count": 9,
   "metadata": {},
   "outputs": [
    {
     "data": {
      "text/plain": [
       "True"
      ]
     },
     "execution_count": 9,
     "metadata": {},
     "output_type": "execute_result"
    }
   ],
   "source": [
    "import datetime\n",
    "import os\n",
    "\n",
    "from dotenv import load_dotenv\n",
    "\n",
    "from market_database.seeker import HistorySeeker\n",
    "\n",
    "load_dotenv(\"../api_token.env\")"
   ]
  },
  {
   "cell_type": "code",
   "execution_count": 10,
   "metadata": {},
   "outputs": [
    {
     "name": "stdout",
     "output_type": "stream",
     "text": [
      "2024-03-29 02:36:03,361 - market_database.seeker.history_seeker - INFO - Current request interval: 2024-01-01 00:00:00 - 2024-03-20 00:00:00\n",
      "2024-03-29 02:36:09,486 - market_database.seeker.history_seeker - INFO - Current request interval: 2024-03-19 20:49:00 - 2024-03-20 00:00:00\n",
      "[HistoricCandle(open=Quotation(units=268, nano=870000000), high=Quotation(units=271, nano=40000000), low=Quotation(units=268, nano=870000000), close=Quotation(units=271, nano=40000000), volume=17, time=datetime.datetime(2024, 1, 2, 7, 16, tzinfo=datetime.timezone.utc), is_complete=True), HistoricCandle(open=Quotation(units=268, nano=870000000), high=Quotation(units=271, nano=70000000), low=Quotation(units=268, nano=870000000), close=Quotation(units=271, nano=0), volume=194, time=datetime.datetime(2024, 1, 2, 7, 17, tzinfo=datetime.timezone.utc), is_complete=True), HistoricCandle(open=Quotation(units=269, nano=0), high=Quotation(units=271, nano=0), low=Quotation(units=269, nano=0), close=Quotation(units=270, nano=830000000), volume=94, time=datetime.datetime(2024, 1, 2, 7, 18, tzinfo=datetime.timezone.utc), is_complete=True), HistoricCandle(open=Quotation(units=269, nano=910000000), high=Quotation(units=270, nano=830000000), low=Quotation(units=269, nano=910000000), close=Quotation(units=269, nano=910000000), volume=66, time=datetime.datetime(2024, 1, 2, 7, 19, tzinfo=datetime.timezone.utc), is_complete=True), HistoricCandle(open=Quotation(units=269, nano=910000000), high=Quotation(units=270, nano=760000000), low=Quotation(units=269, nano=910000000), close=Quotation(units=270, nano=720000000), volume=102, time=datetime.datetime(2024, 1, 2, 7, 20, tzinfo=datetime.timezone.utc), is_complete=True)]\n"
     ]
    }
   ],
   "source": [
    "seeker = HistorySeeker(os.environ.get(\"API_TOKEN\"))\n",
    "\n",
    "from_date = datetime.datetime.fromisoformat(\"2024-01-01\")\n",
    "to_date = datetime.datetime.fromisoformat(\"2024-03-20\")\n",
    "\n",
    "candles = seeker.seek(\"SBER\", from_date, to_date, \"1m\")\n",
    "print(candles[:5])"
   ]
  },
  {
   "cell_type": "code",
   "execution_count": null,
   "metadata": {},
   "outputs": [],
   "source": []
  }
 ],
 "metadata": {
  "kernelspec": {
   "display_name": "Python 3 (ipykernel)",
   "language": "python",
   "name": "python3"
  },
  "language_info": {
   "codemirror_mode": {
    "name": "ipython",
    "version": 3
   },
   "file_extension": ".py",
   "mimetype": "text/x-python",
   "name": "python",
   "nbconvert_exporter": "python",
   "pygments_lexer": "ipython3",
   "version": "3.11.5"
  }
 },
 "nbformat": 4,
 "nbformat_minor": 2
}
